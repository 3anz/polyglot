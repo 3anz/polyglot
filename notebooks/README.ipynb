{
 "cells": [
  {
   "cell_type": "markdown",
   "metadata": {},
   "source": [
    "polyglot\n",
    "==============================="
   ]
  },
  {
   "cell_type": "markdown",
   "metadata": {},
   "source": [
    "[![Downloads](https://pypip.in/download/polyglot/badge.svg \"Downloads\")](https://pypi.python.org/pypi/polyglot)\n",
    "[![Latest Version](https://pypip.in/version/polyglot/badge.svg \"Downloads\")](https://pypi.python.org/pypi/polyglot)\n",
    "[![Supported Python versions](https://pypip.in/py_versions/polyglot/badge.svg \"Supported Python versions\")]( https://pypi.python.org/pypi/polyglot/)\n",
    "[![Development Status]( https://pypip.in/status/polyglot/badge.svg \"Development Status\")](https://pypi.python.org/pypi/polyglot/)\n",
    "[![Download Format](https://pypip.in/format/polyglot/badge.svg \"Download Format\")](https://pypi.python.org/pypi/polyglot)\n",
    "[![Build Status](https://travis-ci.org/aboSamoor/polyglot.png?branch=master \"Build Status\")](https://travis-ci.org/aboSamoor/polyglot)\n",
    "[![Documentation Status](https://readthedocs.org/projects/polyglot/badge/?version=latest \"Documentation Status\")](https://travis-ci.org/aboSamoor/polyglot)\n",
    "\n"
   ]
  },
  {
   "cell_type": "markdown",
   "metadata": {},
   "source": [
    "Polyglot is a natural language pipeline that supports massive multilingual applications.\n",
    "\n",
    "* Free software: GPLv3 license\n",
    "* Documentation: http://polyglot.readthedocs.org.\n",
    "\n",
    "Features\n",
    "--------\n",
    "\n",
    "* Tokenization (165 Languages)\n",
    "* Language detection (165 Languages)\n",
    "* Morphological analysis (137 Languages)\n",
    "* Named Entity Recognition (40 Languages)\n",
    "* Sentiment Analysis (137 Languages)\n",
    "* Word Embeddings (137 Languages)\n"
   ]
  },
  {
   "cell_type": "markdown",
   "metadata": {},
   "source": [
    "# Qiuck Tutorial"
   ]
  },
  {
   "cell_type": "code",
   "execution_count": 1,
   "metadata": {
    "collapsed": false
   },
   "outputs": [],
   "source": [
    "import polyglot\n",
    "from polyglot.text import Text"
   ]
  },
  {
   "cell_type": "markdown",
   "metadata": {},
   "source": [
    "## Language Detection"
   ]
  },
  {
   "cell_type": "code",
   "execution_count": 2,
   "metadata": {
    "collapsed": false
   },
   "outputs": [
    {
     "name": "stdout",
     "output_type": "stream",
     "text": [
      "Language Detected: Code=fr, Name=French\n",
      "\n"
     ]
    }
   ],
   "source": [
    "text = Text(\"Bonjour, Mesdames.\")\n",
    "print(\"Language Detected: Code={}, Name={}\\n\".format(text.language.code, text.language.name))"
   ]
  },
  {
   "cell_type": "markdown",
   "metadata": {},
   "source": [
    "## Tokenization"
   ]
  },
  {
   "cell_type": "code",
   "execution_count": 3,
   "metadata": {
    "collapsed": false
   },
   "outputs": [
    {
     "name": "stdout",
     "output_type": "stream",
     "text": [
      "[u'Beautiful', u'is', u'better', u'than', u'ugly', u'.', u'Explicit', u'is', u'better', u'than', u'implicit', u'.', u'Simple', u'is', u'better', u'than', u'complex', u'.']\n"
     ]
    }
   ],
   "source": [
    "zen = Text(\"Beautiful is better than ugly. \"\n",
    "           \"Explicit is better than implicit. \"\n",
    "           \"Simple is better than complex.\")\n",
    "print(zen.words)"
   ]
  },
  {
   "cell_type": "code",
   "execution_count": 4,
   "metadata": {
    "collapsed": false,
    "scrolled": true
   },
   "outputs": [
    {
     "name": "stdout",
     "output_type": "stream",
     "text": [
      "[Sentence(\"Beautiful is better than ugly.\"), Sentence(\"Explicit is better than implicit.\"), Sentence(\"Simple is better than complex.\")]\n"
     ]
    }
   ],
   "source": [
    "print(zen.sentences)"
   ]
  },
  {
   "cell_type": "markdown",
   "metadata": {},
   "source": [
    "## Part of Speech Tagging"
   ]
  },
  {
   "cell_type": "code",
   "execution_count": 6,
   "metadata": {
    "collapsed": false
   },
   "outputs": [
    {
     "data": {
      "text/plain": [
       "[(u'O', u'PART'),\n",
       " (u'primeiro', u'SCONJ'),\n",
       " (u'uso', u'PART'),\n",
       " (u'de', u'ADP'),\n",
       " (u'desobedi\\xeancia', u'PART'),\n",
       " (u'civil', u'SCONJ'),\n",
       " (u'em', u'ADP'),\n",
       " (u'massa', u'PART'),\n",
       " (u'ocorreu', u'SCONJ'),\n",
       " (u'em', u'ADP'),\n",
       " (u'setembro', u'PART'),\n",
       " (u'de', u'ADP'),\n",
       " (u'1906', u'DET'),\n",
       " (u'.', u'ADV')]"
      ]
     },
     "execution_count": 6,
     "metadata": {},
     "output_type": "execute_result"
    }
   ],
   "source": [
    "text = Text(u\"O primeiro uso de desobediência civil em massa ocorreu em setembro de 1906.\")\n",
    "text.pos_tags"
   ]
  },
  {
   "cell_type": "markdown",
   "metadata": {},
   "source": [
    "## Named Entity Recognition"
   ]
  },
  {
   "cell_type": "code",
   "execution_count": 7,
   "metadata": {
    "collapsed": false
   },
   "outputs": [
    {
     "data": {
      "text/plain": [
       "[I-LOC([u'Gro\\xdfbritannien']), I-PER([u'Gandhi'])]"
      ]
     },
     "execution_count": 7,
     "metadata": {},
     "output_type": "execute_result"
    }
   ],
   "source": [
    "text = Text(u\"In Großbritannien war Gandhi mit dem westlichen Lebensstil vertraut geworden\")\n",
    "text.entities"
   ]
  },
  {
   "cell_type": "markdown",
   "metadata": {},
   "source": [
    "## Polarity"
   ]
  },
  {
   "cell_type": "code",
   "execution_count": 8,
   "metadata": {
    "collapsed": false
   },
   "outputs": [
    {
     "name": "stdout",
     "output_type": "stream",
     "text": [
      "Word            Polarity \n",
      "---------------------------------------- \n",
      "\n",
      "Beautiful        0\n",
      "is               0\n",
      "better           1\n",
      "than             0\n",
      "ugly            -1\n",
      ".                0\n"
     ]
    }
   ],
   "source": [
    "print \"{:<16}{}\".format(\"Word\", \"Polarity\"),\"\\n\", \"-\"*40,\"\\n\"\n",
    "for w in zen.words[:6]:\n",
    "    print \"{:<16}{:>2}\".format(w, w.polarity)"
   ]
  },
  {
   "cell_type": "markdown",
   "metadata": {},
   "source": [
    "## Embeddings"
   ]
  },
  {
   "cell_type": "code",
   "execution_count": 7,
   "metadata": {
    "collapsed": false
   },
   "outputs": [
    {
     "data": {
      "text/plain": [
       "array([-0.08001513, -0.35475096,  0.27702546, -0.20423636,  0.36313248,\n",
       "        0.06376412,  0.0444247 , -0.30489922,  0.014972  ,  0.13951094,\n",
       "        0.07515849, -0.2703914 ,  0.04650182,  0.58747977,  0.5101701 ,\n",
       "       -0.04114699,  0.37434807, -0.27707747, -0.06124159,  0.21493433,\n",
       "       -0.23498166,  0.07404013, -0.23953673, -0.15044802,  0.21210277,\n",
       "       -0.58776855,  0.12014424,  0.30591646,  0.07079886,  0.44168213,\n",
       "        0.2473582 , -0.43409103, -0.25516582,  0.45812422,  0.33660468,\n",
       "        0.61951864,  0.16038296, -0.12069689, -0.59378242, -0.47525382,\n",
       "       -0.03109539,  0.28781402, -0.51556301, -0.26363477, -0.0820123 ,\n",
       "        0.31425434, -0.10971891,  0.53333962,  0.3446033 , -0.62146574,\n",
       "       -0.15398794,  0.11720303,  0.50415224, -0.79616308, -0.25548786,\n",
       "        0.36809164, -0.26254281,  0.11736908, -0.30717522, -0.18103991,\n",
       "       -0.03320931, -0.15692121, -0.22654058,  0.56092978], dtype=float32)"
      ]
     },
     "execution_count": 7,
     "metadata": {},
     "output_type": "execute_result"
    }
   ],
   "source": [
    "w = zen.words[0]\n",
    "w.vector"
   ]
  }
 ],
 "metadata": {
  "kernelspec": {
   "display_name": "Python 2",
   "language": "python",
   "name": "python2"
  },
  "language_info": {
   "codemirror_mode": {
    "name": "ipython",
    "version": 2
   },
   "file_extension": ".py",
   "mimetype": "text/x-python",
   "name": "python",
   "nbconvert_exporter": "python",
   "pygments_lexer": "ipython2",
   "version": "2.7.6"
  }
 },
 "nbformat": 4,
 "nbformat_minor": 0
}
