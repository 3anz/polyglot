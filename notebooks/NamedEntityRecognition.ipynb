{
 "cells": [
  {
   "cell_type": "code",
   "execution_count": 1,
   "metadata": {
    "collapsed": true
   },
   "outputs": [],
   "source": [
    "import sys\n",
    "from os import path as p"
   ]
  },
  {
   "cell_type": "code",
   "execution_count": 2,
   "metadata": {
    "collapsed": false
   },
   "outputs": [],
   "source": [
    "polyglot_dir = '/data/polyglot/'\n",
    "\n",
    "if polyglot_dir not in sys.path:\n",
    "  sys.path.insert(0, polyglot_dir)"
   ]
  },
  {
   "cell_type": "code",
   "execution_count": 3,
   "metadata": {
    "collapsed": false
   },
   "outputs": [],
   "source": [
    "%load_ext autoreload\n",
    "%autoreload 2"
   ]
  },
  {
   "cell_type": "code",
   "execution_count": 4,
   "metadata": {
    "collapsed": false
   },
   "outputs": [],
   "source": [
    "from polyglot.text import Text"
   ]
  },
  {
   "cell_type": "code",
   "execution_count": 8,
   "metadata": {
    "collapsed": true
   },
   "outputs": [],
   "source": [
    "blob = \"\"\"\n",
    "The Israeli Prime Minister Benjamin Netanyahu has warned that Iran poses a \"threat to the entire world\", in a contentious speech to the US Congress.\n",
    "He said the deal being negotiated between Iran and world powers \"paves Iran's path to the [nuclear] bomb\".\n",
    "His speech to Congress was arranged without consulting the White House, which reacted with irritation.\n",
    "The White House had complained that the speech was interfering in domestic politics by trying to swell domestic opposition to any Iran deal.\n",
    "It also comes just two weeks before Mr Netanyahu will fight for re-election in Israel.\n",
    "Israeli PM Benjamin Netanyahu addresses the US Congress Mr Netanyahu was searing in his denunciation of the deal being negotiated with Iran\n",
    "The US, UK, France, Germany, Russia and China are seeking to reach agreement to curtail Iran's nuclear programme in exchange for sanctions relief.\n",
    "Mr Netanyahu was greeted with whoops and cheers as he made his way to the podium, shaking hands as he went.\n",
    "He insisted the Israel-US relationship \"must remain above politics\" and that he was \"grateful for the support of the American people\".\n",
    "But he quickly went on to the meat of his speech, saying Iran has proven time and time again that it can't be trusted.\n",
    "\"Iran's regime is as radical as ever, the ideology is deeply rooted in militant Islam... it will always be an enemy of US\".\n",
    "Its participation in the battle against Islamic State, he said, did not make it a friend: \"This enemy of your enemy is your enemy.\"\n",
    "Mr Netanyahu received a standing ovation as his speech ended.\n",
    "This is John Adam.\n",
    "\"\"\""
   ]
  },
  {
   "cell_type": "code",
   "execution_count": 9,
   "metadata": {
    "collapsed": false
   },
   "outputs": [],
   "source": [
    "text = Text(blob)"
   ]
  },
  {
   "cell_type": "code",
   "execution_count": 10,
   "metadata": {
    "collapsed": false
   },
   "outputs": [
    {
     "name": "stdout",
     "output_type": "stream",
     "text": [
      "The Israeli Prime Minister Benjamin Netanyahu has warned that Iran poses a \"threat to the entire world\", in a contentious speech to the US Congress. \n",
      " [I-ORG(['Israeli']), I-PER(['Benjamin', 'Netanyahu']), I-LOC(['Iran'])] \n",
      "\n",
      "He said the deal being negotiated between Iran and world powers \"paves Iran's path to the [nuclear] bomb\". \n",
      " [I-LOC(['Iran'])] \n",
      "\n",
      "His speech to Congress was arranged without consulting the White House, which reacted with irritation. \n",
      " [I-ORG(['White'])] \n",
      "\n",
      "The White House had complained that the speech was interfering in domestic politics by trying to swell domestic opposition to any Iran deal. \n",
      " [I-LOC(['Iran'])] \n",
      "\n",
      "It also comes just two weeks before Mr Netanyahu will fight for re-election in Israel. \n",
      " [I-PER(['Mr', 'Netanyahu']), I-LOC(['Israel'])] \n",
      "\n",
      "Israeli PM Benjamin Netanyahu addresses the US Congress Mr Netanyahu was searing in his denunciation of the deal being negotiated with Iran \n",
      " [I-PER(['Benjamin', 'Netanyahu']), I-PER(['Mr', 'Netanyahu']), I-LOC(['Iran'])] \n",
      "\n",
      "The US, UK, France, Germany, Russia and China are seeking to reach agreement to curtail Iran's nuclear programme in exchange for sanctions relief. \n",
      " [I-LOC(['France']), I-LOC(['Germany']), I-LOC(['Russia']), I-LOC(['China'])] \n",
      "\n",
      "Mr Netanyahu was greeted with whoops and cheers as he made his way to the podium, shaking hands as he went. \n",
      " [I-PER(['Mr', 'Netanyahu']), I-PER(['whoops'])] \n",
      "\n",
      "He insisted the Israel-US relationship \"must remain above politics\" and that he was \"grateful for the support of the American people\". \n",
      " [I-LOC(['Israel'])] \n",
      "\n",
      "But he quickly went on to the meat of his speech, saying Iran has proven time and time again that it can't be trusted. \n",
      " [I-LOC(['Iran'])] \n",
      "\n",
      "\"Iran's regime is as radical as ever, the ideology is deeply rooted in militant Islam... it will always be an enemy of US\". \n",
      " [I-LOC(['Islam'])] \n",
      "\n",
      "Its participation in the battle against Islamic State, he said, did not make it a friend: \"This enemy of your enemy is your enemy.\" \n",
      " [I-ORG(['Islamic', 'State'])] \n",
      "\n",
      "Mr Netanyahu received a standing ovation as his speech ended. \n",
      " [I-PER(['Mr', 'Netanyahu'])] \n",
      "\n",
      "This is John Adam. \n",
      " [I-PER(['John', 'Adam'])] \n",
      "\n"
     ]
    }
   ],
   "source": [
    "for sent in text.sentences:\n",
    "    print(sent, \"\\n\", sent.entities, \"\\n\")"
   ]
  }
 ],
 "metadata": {
  "kernelspec": {
   "display_name": "Python 3",
   "language": "python",
   "name": "python3"
  },
  "language_info": {
   "codemirror_mode": {
    "name": "ipython",
    "version": 3
   },
   "file_extension": ".py",
   "mimetype": "text/x-python",
   "name": "python",
   "nbconvert_exporter": "python",
   "pygments_lexer": "ipython3",
   "version": "3.4.0"
  }
 },
 "nbformat": 4,
 "nbformat_minor": 0
}
